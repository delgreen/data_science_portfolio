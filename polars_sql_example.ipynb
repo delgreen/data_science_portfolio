{
 "cells": [
  {
   "cell_type": "markdown",
   "metadata": {},
   "source": [
    "# Polars and SQL Example Notebook\n",
    "Created 10/10/2022 by Timothy Green (tdgreen@outlook.com)"
   ]
  },
  {
   "cell_type": "code",
   "execution_count": null,
   "metadata": {
    "vscode": {
     "languageId": "sql"
    }
   },
   "outputs": [],
   "source": [
    "import pyarrow\n",
    "import numpy as np\n",
    "import pandas as pd\n",
    "import polars as pl"
   ]
  },
  {
   "cell_type": "code",
   "execution_count": null,
   "metadata": {
    "vscode": {
     "languageId": "sql"
    }
   },
   "outputs": [],
   "source": [
    "%%sql sql_query <<\n",
    "\n",
    "SELECT\n",
    "    CASE\n",
    "        WHEN A.\"SBCNT#\" LIKE '%PLASMAN%'\n",
    "            /* \n",
    "                Get everything between brackets in contract description\n",
    "                and use as contract number\n",
    "            */\n",
    "            THEN REGEXP_SUBSTR(B.ODDESC, '(?<=\\().*?(?=\\))')\n",
    "            /*\n",
    "                Get all numberic values from contract number\n",
    "                and use as contract number\n",
    "            */\n",
    "        ELSE REGEXP_SUBSTR(A.\"SBCNT#\", '\\d+')\n",
    "    END                     AS CONTRACT_NUMBER\n",
    "    ,A.SBINV                AS INVOICE_NO\n",
    "    ,A.SBINDT               AS INVOICE_DATE\n",
    "    ,CASE\n",
    "        WHEN A.SBITEM LIKE 'CRC%'\n",
    "            /*\n",
    "                When the item number contains 'CRC'\n",
    "                get all charactes after CRC\n",
    "                and use as item number\n",
    "            */\n",
    "            THEN REGEXP_SUBSTR(A.SBITEM, '(?<=CRC)(.+)')\n",
    "        ELSE A.SBITEM\n",
    "    END                     AS ITEM_NO\n",
    "    ,A.SBQSHP               AS QTY_SHIPPED\n",
    "    ,E.IGCOST               AS ITEM_PURCHASE_COST\n",
    "    ,E.IGCOST - F.OIRAMT    AS DEVIATED_PRICE\n",
    "    ,(E.IGCOST - F.OIRAMT) \n",
    "        * A.SBQSHP          AS REBATE_AMOUNT\n",
    "    ,C.RMNAME               AS CUSTOMER_NAME\n",
    "\n",
    "FROM\n",
    "    R50FILES.VSADETL AS A\n",
    "        LEFT JOIN R50FILES.VCORBTH AS B\n",
    "            ON  B.ODCMP = 1\n",
    "            AND B.\"ODCNT#\" = A.\"SBCNT#\"\n",
    "            AND B.ODVEND = A.SBVEND\n",
    "        LEFT JOIN R50FILES.VARCUST AS C\n",
    "            ON  C.RMCMP = 1\n",
    "            AND C.RMCUST = A.SBCUST\n",
    "        LEFT JOIN R50FILES.VSAHEAD AS D\n",
    "            ON D.SACMP = 1\n",
    "            AND D.SAORD = A.SBORD\n",
    "            AND D.SABOCD = A.SBBOCD\n",
    "        LEFT JOIN R50FILES.VINITVN AS E\n",
    "            ON E.IGCOMP = 1\n",
    "            AND E.IGLOC = '107'\n",
    "            AND E.IGITEM = A.SBITEM\n",
    "            AND E.IGVND = A.SBVEND\n",
    "        LEFT JOIN R50FILES.VCORBTD AS F\n",
    "            ON F.OICMP = 1\n",
    "            AND F.\"OICNT#\" = A.\"SBCNT#\"\n",
    "            AND F.OIVEND = A.SBVEND\n",
    "            AND F.OIITEM = A.SBITEM\n",
    "WHERE\n",
    "        A.SBVEND = '22401'\n",
    "    AND A.SBTYPE = 'O'\n",
    "    AND A.SBRAMT > 0\n",
    "    AND A.SBINDT BETWEEN\n",
    "        DECIMAL(LAST_DAY(CURRENT_DATE) - 2 MONTH + 1 DAY) \n",
    "            AND DECIMAL(LAST_DAY(CURRENT_DATE) - 1 MONTH)\n",
    "FOR READ ONLY\n"
   ]
  },
  {
   "cell_type": "code",
   "execution_count": null,
   "metadata": {},
   "outputs": [],
   "source": [
    "def rebate_report(df : pl.DataFrame) -> pd.DataFrame:\n",
    "    return (\n",
    "        df\n",
    "            .lazy()\n",
    "            .with_columns(\n",
    "                invoice_date = pl.col('invoice_date')\n",
    "                    .cast(pl.Int64)\n",
    "                    .cast(pl.Utf8)\n",
    "                    .str.strptime(pl.Date, fmt=\"%Y%m%d\", strict=False),\n",
    "                po_no_to_crc = pl.lit(None),\n",
    "            )\n",
    "            .with_columns(\n",
    "                [pl.col(column).fill_null(0).cast(pl.Int64) for column in [\n",
    "                    'qty_shipped',\n",
    "                ]]\n",
    "            )\n",
    "            .with_columns(\n",
    "                [pl.col(column).fill_null(0).cast(pl.Float64).round(2) for column in [\n",
    "                    'item_purchase_cost',\n",
    "                    'deviated_price',\n",
    "                    'rebate_amount',\n",
    "                ]]\n",
    "            )\n",
    "            .rename({\n",
    "                'contract_number'       : 'Deviation#',\n",
    "                'customer_name'         : 'End User',\n",
    "                'invoice_no'            : 'Invoice# to User',\n",
    "                'invoice_date'          : 'Date Sold',\n",
    "                'item_no'               : 'Item#',\n",
    "                'qty_shipped'           : 'Qty. Sold (ea.)',\n",
    "                'item_purchase_cost'    : 'PO Price',\n",
    "                'deviated_price'        : 'Deviated Price',\n",
    "                'rebate_amount'         : 'Rebate due',\n",
    "                'po_no_to_crc'          : 'PO# to CRC',\n",
    "            })\n",
    "            .select(\n",
    "                [pl.col(column) for column in [\n",
    "                    'Deviation#',\n",
    "                    'PO# to CRC',\n",
    "                    'End User',\n",
    "                    'Invoice# to User',\n",
    "                    'Date Sold',\n",
    "                    'Item#',\n",
    "                    'Qty. Sold (ea.)',\n",
    "                    'PO Price',\n",
    "                    'Deviated Price',\n",
    "                    'Rebate due',\n",
    "                ]]\n",
    "            )\n",
    "            .collect()\n",
    "            .to_pandas()\n",
    "    )"
   ]
  }
 ],
 "metadata": {
  "celltoolbar": "Tags",
  "kernelspec": {
   "display_name": "Python 3 (ipykernel)",
   "language": "python",
   "name": "python3"
  },
  "language_info": {
   "codemirror_mode": {
    "name": "ipython",
    "version": 3
   },
   "file_extension": ".py",
   "mimetype": "text/x-python",
   "name": "python",
   "nbconvert_exporter": "python",
   "pygments_lexer": "ipython3",
   "version": "3.10.6"
  },
  "vscode": {
   "interpreter": {
    "hash": "08001273fe955f289a79c94d579001118825e31b8afb814428c5d8f5c0b79a06"
   }
  }
 },
 "nbformat": 4,
 "nbformat_minor": 4
}
