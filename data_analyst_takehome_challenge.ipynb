{
 "cells": [
  {
   "cell_type": "markdown",
   "metadata": {},
   "source": [
    "# Takehome Challenge - Data Analyst\n",
    "### November 4, 2022\n",
    "\n",
    "---\n",
    "\n",
    "**Timothy Del Green**<br>\n",
    "1-256-335-0378<br>\n",
    "tdgreen@outlook.com<br>\n",
    "https://www.linkedin.com/in/timothy-del-green<br>\n",
    "https://github.com/delgreen/data_science_portfolio<br>\n",
    "\n",
    "---"
   ]
  },
  {
   "cell_type": "markdown",
   "metadata": {},
   "source": [
    "# INSTRUCTIONS\n",
    "- Please answer the following questions with the code language provided\n",
    "- Feel free to add more cells when necessary for each question than just the one provided\n",
    "- For python code, the code cells should be executed and the final cell output should display the answer to the question\n",
    "- For SQL, the answer cells are set to \"Markdown\" so please execuse as a markdown to ensure the code stays saved\n",
    "\n",
    "The test consists of 11 questions/prompts and for 9 of those we’d like you write out code in Python, as well as SQL. \n",
    "\n",
    "- The first cell asks you to import the data and we’re expecting you to only import with Python, and \n",
    "- the last cell asks you to make a visualization and we’re expecting you to only do this in Python. \n",
    "- We’re making a guess that you’ll use Pandas throughout the notebook, but if there are other libraries you’d like to use, feel free. \n",
    "- For your answers in SQL, since there’s no database to query, we’ve got markdown cells. Please write the SQL answers in those markdown cells. Some people ask us what flavor of SQL they should write in, and you can assume that if there was a database, it would be PostgreSQL."
   ]
  },
  {
   "cell_type": "markdown",
   "metadata": {},
   "source": [
    "# Import headers and the 3 data files"
   ]
  },
  {
   "cell_type": "code",
   "execution_count": 99,
   "metadata": {},
   "outputs": [
    {
     "data": {
      "text/html": [
       "<style>.container { width:100% !important; }</style>"
      ],
      "text/plain": [
       "<IPython.core.display.HTML object>"
      ]
     },
     "metadata": {},
     "output_type": "display_data"
    }
   ],
   "source": [
    "from IPython.display import display, HTML\n",
    "display(HTML(\"<style>.container { width:100% !important; }</style>\"))\n",
    "\n",
    "import pandas as pd\n",
    "import numpy as np\n",
    "import matplotlib as mpl\n",
    "import matplotlib.pyplot as plt\n",
    "import seaborn as sns\n",
    "from pathlib import Path\n",
    "from pandasql import sqldf\n",
    "from matplotlib.ticker import FuncFormatter\n",
    "\n",
    "%matplotlib inline\n"
   ]
  },
  {
   "cell_type": "code",
   "execution_count": 123,
   "metadata": {},
   "outputs": [
    {
     "data": {
      "text/html": [
       "<div>\n",
       "<style scoped>\n",
       "    .dataframe tbody tr th:only-of-type {\n",
       "        vertical-align: middle;\n",
       "    }\n",
       "\n",
       "    .dataframe tbody tr th {\n",
       "        vertical-align: top;\n",
       "    }\n",
       "\n",
       "    .dataframe thead th {\n",
       "        text-align: right;\n",
       "    }\n",
       "</style>\n",
       "<table border=\"1\" class=\"dataframe\">\n",
       "  <thead>\n",
       "    <tr style=\"text-align: right;\">\n",
       "      <th></th>\n",
       "      <th>order_number</th>\n",
       "      <th>customer_name</th>\n",
       "      <th>product</th>\n",
       "      <th>quantity</th>\n",
       "      <th>date</th>\n",
       "      <th>zip_code</th>\n",
       "      <th>price</th>\n",
       "      <th>revenue</th>\n",
       "    </tr>\n",
       "  </thead>\n",
       "  <tbody>\n",
       "    <tr>\n",
       "      <th>0</th>\n",
       "      <td>1</td>\n",
       "      <td>carreca01</td>\n",
       "      <td>y3</td>\n",
       "      <td>1</td>\n",
       "      <td>2017-12-09</td>\n",
       "      <td>90101</td>\n",
       "      <td>81.46</td>\n",
       "      <td>81.46</td>\n",
       "    </tr>\n",
       "    <tr>\n",
       "      <th>1</th>\n",
       "      <td>2</td>\n",
       "      <td>handdo01</td>\n",
       "      <td>y3</td>\n",
       "      <td>1</td>\n",
       "      <td>2017-11-27</td>\n",
       "      <td>90289</td>\n",
       "      <td>81.46</td>\n",
       "      <td>81.46</td>\n",
       "    </tr>\n",
       "    <tr>\n",
       "      <th>2</th>\n",
       "      <td>3</td>\n",
       "      <td>gearyhu01</td>\n",
       "      <td>x9</td>\n",
       "      <td>1</td>\n",
       "      <td>2017-12-05</td>\n",
       "      <td>60048</td>\n",
       "      <td>89.50</td>\n",
       "      <td>89.50</td>\n",
       "    </tr>\n",
       "    <tr>\n",
       "      <th>3</th>\n",
       "      <td>4</td>\n",
       "      <td>ginnti01</td>\n",
       "      <td>x6</td>\n",
       "      <td>4</td>\n",
       "      <td>2017-10-01</td>\n",
       "      <td>90289</td>\n",
       "      <td>20.65</td>\n",
       "      <td>82.60</td>\n",
       "    </tr>\n",
       "    <tr>\n",
       "      <th>4</th>\n",
       "      <td>5</td>\n",
       "      <td>hoffmfr01</td>\n",
       "      <td>y6</td>\n",
       "      <td>3</td>\n",
       "      <td>2017-11-13</td>\n",
       "      <td>53987</td>\n",
       "      <td>81.24</td>\n",
       "      <td>243.72</td>\n",
       "    </tr>\n",
       "  </tbody>\n",
       "</table>\n",
       "</div>"
      ],
      "text/plain": [
       "   order_number customer_name product  quantity       date zip_code  price  \\\n",
       "0             1     carreca01      y3         1 2017-12-09    90101  81.46   \n",
       "1             2      handdo01      y3         1 2017-11-27    90289  81.46   \n",
       "2             3     gearyhu01      x9         1 2017-12-05    60048  89.50   \n",
       "3             4      ginnti01      x6         4 2017-10-01    90289  20.65   \n",
       "4             5     hoffmfr01      y6         3 2017-11-13    53987  81.24   \n",
       "\n",
       "   revenue  \n",
       "0    81.46  \n",
       "1    81.46  \n",
       "2    89.50  \n",
       "3    82.60  \n",
       "4   243.72  "
      ]
     },
     "execution_count": 123,
     "metadata": {},
     "output_type": "execute_result"
    }
   ],
   "source": [
    "def transactions_dataset() -> pd.DataFrame:\n",
    "    # Path to current working directory\n",
    "    p = Path('.')\n",
    "    \n",
    "    # Customer Data\n",
    "    customers_data = pd.read_csv(p / 'customers.csv')\n",
    "\n",
    "    # Orders Data\n",
    "    orders_data = pd.read_csv(p / 'orders.csv')\n",
    "\n",
    "    # Prices Data\n",
    "    prices_data = pd.read_csv(p / 'prices.csv')\n",
    "    \n",
    "    return(\n",
    "        orders_data\n",
    "            .merge(\n",
    "                customers_data,\n",
    "                on='customer_name',\n",
    "                how='left',\n",
    "                validate='m:1',\n",
    "            )\n",
    "            .merge(\n",
    "                prices_data,\n",
    "                on='product',\n",
    "                how='left',\n",
    "                validate='m:1'\n",
    "            )\n",
    "            .fillna({\n",
    "                **{col : 0 for col in [\n",
    "                    'quantity',\n",
    "                    'price',\n",
    "                ]}\n",
    "            })\n",
    "            .astype({\n",
    "                **{col : int for col in [\n",
    "                    'quantity',\n",
    "                ]},\n",
    "                **{col : float for col in [\n",
    "                    'price',\n",
    "                ]},\n",
    "                **{col : str for col in [\n",
    "                    'zip_code',\n",
    "                ]}\n",
    "            })\n",
    "            .assign(\n",
    "                date = lambda df_ : pd.to_datetime(df_['date']),\n",
    "\n",
    "                # The revenue for each order is equal to the product of the quantity times the price\n",
    "                revenue = lambda df_ : df_['quantity'] * df_['price']\n",
    "            )\n",
    "            .drop_duplicates()\n",
    "    )\n",
    "\n",
    "dataset = transactions_dataset()\n",
    "\n",
    "dataset.head()\n"
   ]
  },
  {
   "cell_type": "markdown",
   "metadata": {},
   "source": [
    "# What is the total revenue generated in the entire data set?"
   ]
  },
  {
   "cell_type": "markdown",
   "metadata": {},
   "source": [
    "python code"
   ]
  },
  {
   "cell_type": "code",
   "execution_count": 101,
   "metadata": {},
   "outputs": [
    {
     "data": {
      "text/plain": [
       "85221.28"
      ]
     },
     "execution_count": 101,
     "metadata": {},
     "output_type": "execute_result"
    }
   ],
   "source": [
    "np.sum(dataset['revenue'])\n"
   ]
  },
  {
   "cell_type": "markdown",
   "metadata": {},
   "source": [
    "SQL code"
   ]
  },
  {
   "cell_type": "markdown",
   "metadata": {},
   "source": [
    "select sum(revenue) from table"
   ]
  },
  {
   "cell_type": "code",
   "execution_count": 124,
   "metadata": {},
   "outputs": [
    {
     "data": {
      "text/plain": [
       "85221.28"
      ]
     },
     "execution_count": 124,
     "metadata": {},
     "output_type": "execute_result"
    }
   ],
   "source": [
    "q_1 = \"\"\"\n",
    "\n",
    "SELECT\n",
    "    SUM(A.revenue) AS total_revenue\n",
    "FROM\n",
    "    dataset as A\n",
    "\n",
    "\"\"\"\n",
    "\n",
    "(sqldf(q_1, globals())['total_revenue'][0].round(2))\n"
   ]
  },
  {
   "cell_type": "markdown",
   "metadata": {},
   "source": [
    "# Summarize total revenue by product"
   ]
  },
  {
   "cell_type": "markdown",
   "metadata": {},
   "source": [
    "python code"
   ]
  },
  {
   "cell_type": "code",
   "execution_count": 103,
   "metadata": {},
   "outputs": [
    {
     "data": {
      "text/html": [
       "<div>\n",
       "<style scoped>\n",
       "    .dataframe tbody tr th:only-of-type {\n",
       "        vertical-align: middle;\n",
       "    }\n",
       "\n",
       "    .dataframe tbody tr th {\n",
       "        vertical-align: top;\n",
       "    }\n",
       "\n",
       "    .dataframe thead th {\n",
       "        text-align: right;\n",
       "    }\n",
       "</style>\n",
       "<table border=\"1\" class=\"dataframe\">\n",
       "  <thead>\n",
       "    <tr style=\"text-align: right;\">\n",
       "      <th></th>\n",
       "      <th>product</th>\n",
       "      <th>total_revenue</th>\n",
       "    </tr>\n",
       "  </thead>\n",
       "  <tbody>\n",
       "    <tr>\n",
       "      <th>0</th>\n",
       "      <td>x1</td>\n",
       "      <td>288.54</td>\n",
       "    </tr>\n",
       "    <tr>\n",
       "      <th>1</th>\n",
       "      <td>x10</td>\n",
       "      <td>2284.45</td>\n",
       "    </tr>\n",
       "    <tr>\n",
       "      <th>2</th>\n",
       "      <td>x11</td>\n",
       "      <td>532.08</td>\n",
       "    </tr>\n",
       "    <tr>\n",
       "      <th>3</th>\n",
       "      <td>x12</td>\n",
       "      <td>767.88</td>\n",
       "    </tr>\n",
       "    <tr>\n",
       "      <th>4</th>\n",
       "      <td>x2</td>\n",
       "      <td>574.86</td>\n",
       "    </tr>\n",
       "    <tr>\n",
       "      <th>5</th>\n",
       "      <td>x3</td>\n",
       "      <td>958.68</td>\n",
       "    </tr>\n",
       "    <tr>\n",
       "      <th>6</th>\n",
       "      <td>x4</td>\n",
       "      <td>255.99</td>\n",
       "    </tr>\n",
       "    <tr>\n",
       "      <th>7</th>\n",
       "      <td>x5</td>\n",
       "      <td>448.72</td>\n",
       "    </tr>\n",
       "    <tr>\n",
       "      <th>8</th>\n",
       "      <td>x6</td>\n",
       "      <td>2994.25</td>\n",
       "    </tr>\n",
       "    <tr>\n",
       "      <th>9</th>\n",
       "      <td>x7</td>\n",
       "      <td>943.50</td>\n",
       "    </tr>\n",
       "    <tr>\n",
       "      <th>10</th>\n",
       "      <td>x8</td>\n",
       "      <td>1807.92</td>\n",
       "    </tr>\n",
       "    <tr>\n",
       "      <th>11</th>\n",
       "      <td>x9</td>\n",
       "      <td>8860.50</td>\n",
       "    </tr>\n",
       "    <tr>\n",
       "      <th>12</th>\n",
       "      <td>y1</td>\n",
       "      <td>2496.00</td>\n",
       "    </tr>\n",
       "    <tr>\n",
       "      <th>13</th>\n",
       "      <td>y2</td>\n",
       "      <td>2497.04</td>\n",
       "    </tr>\n",
       "    <tr>\n",
       "      <th>14</th>\n",
       "      <td>y3</td>\n",
       "      <td>17595.36</td>\n",
       "    </tr>\n",
       "    <tr>\n",
       "      <th>15</th>\n",
       "      <td>y4</td>\n",
       "      <td>1166.10</td>\n",
       "    </tr>\n",
       "    <tr>\n",
       "      <th>16</th>\n",
       "      <td>y5</td>\n",
       "      <td>9316.15</td>\n",
       "    </tr>\n",
       "    <tr>\n",
       "      <th>17</th>\n",
       "      <td>y6</td>\n",
       "      <td>19741.32</td>\n",
       "    </tr>\n",
       "    <tr>\n",
       "      <th>18</th>\n",
       "      <td>y7</td>\n",
       "      <td>11120.20</td>\n",
       "    </tr>\n",
       "    <tr>\n",
       "      <th>19</th>\n",
       "      <td>y8</td>\n",
       "      <td>571.74</td>\n",
       "    </tr>\n",
       "  </tbody>\n",
       "</table>\n",
       "</div>"
      ],
      "text/plain": [
       "   product  total_revenue\n",
       "0       x1         288.54\n",
       "1      x10        2284.45\n",
       "2      x11         532.08\n",
       "3      x12         767.88\n",
       "4       x2         574.86\n",
       "5       x3         958.68\n",
       "6       x4         255.99\n",
       "7       x5         448.72\n",
       "8       x6        2994.25\n",
       "9       x7         943.50\n",
       "10      x8        1807.92\n",
       "11      x9        8860.50\n",
       "12      y1        2496.00\n",
       "13      y2        2497.04\n",
       "14      y3       17595.36\n",
       "15      y4        1166.10\n",
       "16      y5        9316.15\n",
       "17      y6       19741.32\n",
       "18      y7       11120.20\n",
       "19      y8         571.74"
      ]
     },
     "execution_count": 103,
     "metadata": {},
     "output_type": "execute_result"
    }
   ],
   "source": [
    "(\n",
    "    dataset\n",
    "        .groupby('product')\n",
    "        .agg(total_revenue = pd.NamedAgg(column='revenue', aggfunc='sum'))\n",
    "        .sort_values(by='product')\n",
    "        .reset_index()\n",
    ")\n"
   ]
  },
  {
   "cell_type": "markdown",
   "metadata": {},
   "source": [
    "sql code"
   ]
  },
  {
   "cell_type": "code",
   "execution_count": 104,
   "metadata": {},
   "outputs": [
    {
     "data": {
      "text/html": [
       "<div>\n",
       "<style scoped>\n",
       "    .dataframe tbody tr th:only-of-type {\n",
       "        vertical-align: middle;\n",
       "    }\n",
       "\n",
       "    .dataframe tbody tr th {\n",
       "        vertical-align: top;\n",
       "    }\n",
       "\n",
       "    .dataframe thead th {\n",
       "        text-align: right;\n",
       "    }\n",
       "</style>\n",
       "<table border=\"1\" class=\"dataframe\">\n",
       "  <thead>\n",
       "    <tr style=\"text-align: right;\">\n",
       "      <th></th>\n",
       "      <th>product</th>\n",
       "      <th>total_revenue</th>\n",
       "    </tr>\n",
       "  </thead>\n",
       "  <tbody>\n",
       "    <tr>\n",
       "      <th>0</th>\n",
       "      <td>x1</td>\n",
       "      <td>288.54</td>\n",
       "    </tr>\n",
       "    <tr>\n",
       "      <th>1</th>\n",
       "      <td>x10</td>\n",
       "      <td>2284.45</td>\n",
       "    </tr>\n",
       "    <tr>\n",
       "      <th>2</th>\n",
       "      <td>x11</td>\n",
       "      <td>532.08</td>\n",
       "    </tr>\n",
       "    <tr>\n",
       "      <th>3</th>\n",
       "      <td>x12</td>\n",
       "      <td>767.88</td>\n",
       "    </tr>\n",
       "    <tr>\n",
       "      <th>4</th>\n",
       "      <td>x2</td>\n",
       "      <td>574.86</td>\n",
       "    </tr>\n",
       "    <tr>\n",
       "      <th>5</th>\n",
       "      <td>x3</td>\n",
       "      <td>958.68</td>\n",
       "    </tr>\n",
       "    <tr>\n",
       "      <th>6</th>\n",
       "      <td>x4</td>\n",
       "      <td>255.99</td>\n",
       "    </tr>\n",
       "    <tr>\n",
       "      <th>7</th>\n",
       "      <td>x5</td>\n",
       "      <td>448.72</td>\n",
       "    </tr>\n",
       "    <tr>\n",
       "      <th>8</th>\n",
       "      <td>x6</td>\n",
       "      <td>2994.25</td>\n",
       "    </tr>\n",
       "    <tr>\n",
       "      <th>9</th>\n",
       "      <td>x7</td>\n",
       "      <td>943.50</td>\n",
       "    </tr>\n",
       "    <tr>\n",
       "      <th>10</th>\n",
       "      <td>x8</td>\n",
       "      <td>1807.92</td>\n",
       "    </tr>\n",
       "    <tr>\n",
       "      <th>11</th>\n",
       "      <td>x9</td>\n",
       "      <td>8860.50</td>\n",
       "    </tr>\n",
       "    <tr>\n",
       "      <th>12</th>\n",
       "      <td>y1</td>\n",
       "      <td>2496.00</td>\n",
       "    </tr>\n",
       "    <tr>\n",
       "      <th>13</th>\n",
       "      <td>y2</td>\n",
       "      <td>2497.04</td>\n",
       "    </tr>\n",
       "    <tr>\n",
       "      <th>14</th>\n",
       "      <td>y3</td>\n",
       "      <td>17595.36</td>\n",
       "    </tr>\n",
       "    <tr>\n",
       "      <th>15</th>\n",
       "      <td>y4</td>\n",
       "      <td>1166.10</td>\n",
       "    </tr>\n",
       "    <tr>\n",
       "      <th>16</th>\n",
       "      <td>y5</td>\n",
       "      <td>9316.15</td>\n",
       "    </tr>\n",
       "    <tr>\n",
       "      <th>17</th>\n",
       "      <td>y6</td>\n",
       "      <td>19741.32</td>\n",
       "    </tr>\n",
       "    <tr>\n",
       "      <th>18</th>\n",
       "      <td>y7</td>\n",
       "      <td>11120.20</td>\n",
       "    </tr>\n",
       "    <tr>\n",
       "      <th>19</th>\n",
       "      <td>y8</td>\n",
       "      <td>571.74</td>\n",
       "    </tr>\n",
       "  </tbody>\n",
       "</table>\n",
       "</div>"
      ],
      "text/plain": [
       "   product  total_revenue\n",
       "0       x1         288.54\n",
       "1      x10        2284.45\n",
       "2      x11         532.08\n",
       "3      x12         767.88\n",
       "4       x2         574.86\n",
       "5       x3         958.68\n",
       "6       x4         255.99\n",
       "7       x5         448.72\n",
       "8       x6        2994.25\n",
       "9       x7         943.50\n",
       "10      x8        1807.92\n",
       "11      x9        8860.50\n",
       "12      y1        2496.00\n",
       "13      y2        2497.04\n",
       "14      y3       17595.36\n",
       "15      y4        1166.10\n",
       "16      y5        9316.15\n",
       "17      y6       19741.32\n",
       "18      y7       11120.20\n",
       "19      y8         571.74"
      ]
     },
     "execution_count": 104,
     "metadata": {},
     "output_type": "execute_result"
    }
   ],
   "source": [
    "q_2 = \"\"\"\n",
    "\n",
    "SELECT\n",
    "    A.product\n",
    "    ,SUM(A.revenue) AS total_revenue\n",
    "FROM\n",
    "    dataset AS A\n",
    "GROUP BY\n",
    "    A.product\n",
    "ORDER BY\n",
    "    A.product\n",
    "\n",
    "\"\"\"\n",
    "\n",
    "sqldf(q_2, globals())\n"
   ]
  },
  {
   "cell_type": "markdown",
   "metadata": {},
   "source": [
    "# What customer(s) placed the most orders? How many?"
   ]
  },
  {
   "cell_type": "markdown",
   "metadata": {},
   "source": [
    "python code"
   ]
  },
  {
   "cell_type": "code",
   "execution_count": 105,
   "metadata": {},
   "outputs": [
    {
     "data": {
      "text/html": [
       "<div>\n",
       "<style scoped>\n",
       "    .dataframe tbody tr th:only-of-type {\n",
       "        vertical-align: middle;\n",
       "    }\n",
       "\n",
       "    .dataframe tbody tr th {\n",
       "        vertical-align: top;\n",
       "    }\n",
       "\n",
       "    .dataframe thead th {\n",
       "        text-align: right;\n",
       "    }\n",
       "</style>\n",
       "<table border=\"1\" class=\"dataframe\">\n",
       "  <thead>\n",
       "    <tr style=\"text-align: right;\">\n",
       "      <th></th>\n",
       "      <th>customer_name</th>\n",
       "      <th>order_count</th>\n",
       "    </tr>\n",
       "  </thead>\n",
       "  <tbody>\n",
       "    <tr>\n",
       "      <th>0</th>\n",
       "      <td>casilal01</td>\n",
       "      <td>18</td>\n",
       "    </tr>\n",
       "  </tbody>\n",
       "</table>\n",
       "</div>"
      ],
      "text/plain": [
       "  customer_name  order_count\n",
       "0     casilal01           18"
      ]
     },
     "execution_count": 105,
     "metadata": {},
     "output_type": "execute_result"
    }
   ],
   "source": [
    "(\n",
    "    dataset\n",
    "        .groupby('customer_name')\n",
    "        .agg(order_count = pd.NamedAgg(column='order_number', aggfunc='count'))\n",
    "        .query('order_count == order_count.max()')\n",
    "        .reset_index()\n",
    ")\n"
   ]
  },
  {
   "cell_type": "markdown",
   "metadata": {},
   "source": [
    "sql code"
   ]
  },
  {
   "cell_type": "code",
   "execution_count": 106,
   "metadata": {},
   "outputs": [
    {
     "data": {
      "text/html": [
       "<div>\n",
       "<style scoped>\n",
       "    .dataframe tbody tr th:only-of-type {\n",
       "        vertical-align: middle;\n",
       "    }\n",
       "\n",
       "    .dataframe tbody tr th {\n",
       "        vertical-align: top;\n",
       "    }\n",
       "\n",
       "    .dataframe thead th {\n",
       "        text-align: right;\n",
       "    }\n",
       "</style>\n",
       "<table border=\"1\" class=\"dataframe\">\n",
       "  <thead>\n",
       "    <tr style=\"text-align: right;\">\n",
       "      <th></th>\n",
       "      <th>customer_name</th>\n",
       "      <th>order_count</th>\n",
       "    </tr>\n",
       "  </thead>\n",
       "  <tbody>\n",
       "    <tr>\n",
       "      <th>0</th>\n",
       "      <td>casilal01</td>\n",
       "      <td>18</td>\n",
       "    </tr>\n",
       "  </tbody>\n",
       "</table>\n",
       "</div>"
      ],
      "text/plain": [
       "  customer_name  order_count\n",
       "0     casilal01           18"
      ]
     },
     "execution_count": 106,
     "metadata": {},
     "output_type": "execute_result"
    }
   ],
   "source": [
    "q_3 = \"\"\"\n",
    "\n",
    "WITH\n",
    "    ORDER_COUNT_TABLE AS (\n",
    "        SELECT\n",
    "            A.customer_name\n",
    "            ,COUNT(A.order_number) AS order_count\n",
    "            ,RANK() OVER(ORDER BY COUNT(A.order_number) DESC) AS order_rank\n",
    "        FROM\n",
    "            dataset AS A\n",
    "        GROUP BY\n",
    "            A.customer_name\n",
    "    )\n",
    "SELECT\n",
    "    customer_name\n",
    "    ,order_count\n",
    "FROM\n",
    "    ORDER_COUNT_TABLE\n",
    "WHERE\n",
    "    order_rank = 1\n",
    "    \n",
    "\"\"\"\n",
    "\n",
    "sqldf(q_3, globals())\n"
   ]
  },
  {
   "cell_type": "markdown",
   "metadata": {},
   "source": [
    "# What zip code had the most revenue? How much?"
   ]
  },
  {
   "cell_type": "markdown",
   "metadata": {},
   "source": [
    "python code"
   ]
  },
  {
   "cell_type": "code",
   "execution_count": 107,
   "metadata": {},
   "outputs": [
    {
     "data": {
      "text/html": [
       "<div>\n",
       "<style scoped>\n",
       "    .dataframe tbody tr th:only-of-type {\n",
       "        vertical-align: middle;\n",
       "    }\n",
       "\n",
       "    .dataframe tbody tr th {\n",
       "        vertical-align: top;\n",
       "    }\n",
       "\n",
       "    .dataframe thead th {\n",
       "        text-align: right;\n",
       "    }\n",
       "</style>\n",
       "<table border=\"1\" class=\"dataframe\">\n",
       "  <thead>\n",
       "    <tr style=\"text-align: right;\">\n",
       "      <th></th>\n",
       "      <th>zip_code</th>\n",
       "      <th>total_revenue</th>\n",
       "    </tr>\n",
       "  </thead>\n",
       "  <tbody>\n",
       "    <tr>\n",
       "      <th>0</th>\n",
       "      <td>90289</td>\n",
       "      <td>18979.42</td>\n",
       "    </tr>\n",
       "  </tbody>\n",
       "</table>\n",
       "</div>"
      ],
      "text/plain": [
       "  zip_code  total_revenue\n",
       "0    90289       18979.42"
      ]
     },
     "execution_count": 107,
     "metadata": {},
     "output_type": "execute_result"
    }
   ],
   "source": [
    "(\n",
    "    dataset\n",
    "        .groupby('zip_code')\n",
    "        .agg(total_revenue = pd.NamedAgg(column='revenue', aggfunc='sum'))\n",
    "        .query('total_revenue == total_revenue.max()')\n",
    "        .reset_index()\n",
    ")\n"
   ]
  },
  {
   "cell_type": "markdown",
   "metadata": {},
   "source": [
    "SQL code"
   ]
  },
  {
   "cell_type": "code",
   "execution_count": 108,
   "metadata": {},
   "outputs": [
    {
     "data": {
      "text/html": [
       "<div>\n",
       "<style scoped>\n",
       "    .dataframe tbody tr th:only-of-type {\n",
       "        vertical-align: middle;\n",
       "    }\n",
       "\n",
       "    .dataframe tbody tr th {\n",
       "        vertical-align: top;\n",
       "    }\n",
       "\n",
       "    .dataframe thead th {\n",
       "        text-align: right;\n",
       "    }\n",
       "</style>\n",
       "<table border=\"1\" class=\"dataframe\">\n",
       "  <thead>\n",
       "    <tr style=\"text-align: right;\">\n",
       "      <th></th>\n",
       "      <th>zip_code</th>\n",
       "      <th>total_revenue</th>\n",
       "    </tr>\n",
       "  </thead>\n",
       "  <tbody>\n",
       "    <tr>\n",
       "      <th>0</th>\n",
       "      <td>90289</td>\n",
       "      <td>18979.42</td>\n",
       "    </tr>\n",
       "  </tbody>\n",
       "</table>\n",
       "</div>"
      ],
      "text/plain": [
       "  zip_code  total_revenue\n",
       "0    90289       18979.42"
      ]
     },
     "execution_count": 108,
     "metadata": {},
     "output_type": "execute_result"
    }
   ],
   "source": [
    "q_4 = \"\"\"\n",
    "\n",
    "WITH\n",
    "    REVENUE_TABLE AS (\n",
    "        SELECT \n",
    "            A.zip_code\n",
    "            ,SUM(A.revenue) AS total_revenue\n",
    "            ,RANK() OVER(ORDER BY SUM(A.revenue) DESC) AS revenue_rank\n",
    "        FROM\n",
    "            dataset AS A\n",
    "        GROUP BY\n",
    "            A.zip_code\n",
    "    )\n",
    "SELECT\n",
    "    zip_code\n",
    "    ,total_revenue\n",
    "FROM \n",
    "    REVENUE_TABLE\n",
    "WHERE\n",
    "    revenue_rank = 1\n",
    "\n",
    "\"\"\"\n",
    "\n",
    "sqldf(q_4, globals())\n"
   ]
  },
  {
   "cell_type": "markdown",
   "metadata": {},
   "source": [
    "# How many units of product y6 were ordered by customers in zip code 60062 between 11/10/2017 and 11/30/2017, inclusively?"
   ]
  },
  {
   "cell_type": "markdown",
   "metadata": {},
   "source": [
    "python code"
   ]
  },
  {
   "cell_type": "code",
   "execution_count": 109,
   "metadata": {},
   "outputs": [
    {
     "data": {
      "text/html": [
       "<div>\n",
       "<style scoped>\n",
       "    .dataframe tbody tr th:only-of-type {\n",
       "        vertical-align: middle;\n",
       "    }\n",
       "\n",
       "    .dataframe tbody tr th {\n",
       "        vertical-align: top;\n",
       "    }\n",
       "\n",
       "    .dataframe thead th {\n",
       "        text-align: right;\n",
       "    }\n",
       "</style>\n",
       "<table border=\"1\" class=\"dataframe\">\n",
       "  <thead>\n",
       "    <tr style=\"text-align: right;\">\n",
       "      <th></th>\n",
       "      <th>product</th>\n",
       "      <th>zip_code</th>\n",
       "      <th>total_units_ordered</th>\n",
       "    </tr>\n",
       "  </thead>\n",
       "  <tbody>\n",
       "    <tr>\n",
       "      <th>0</th>\n",
       "      <td>y6</td>\n",
       "      <td>60062</td>\n",
       "      <td>13</td>\n",
       "    </tr>\n",
       "  </tbody>\n",
       "</table>\n",
       "</div>"
      ],
      "text/plain": [
       "  product zip_code  total_units_ordered\n",
       "0      y6    60062                   13"
      ]
     },
     "execution_count": 109,
     "metadata": {},
     "output_type": "execute_result"
    }
   ],
   "source": [
    "(\n",
    "    dataset[dataset['date'].isin(pd.date_range(start='11/10/2017', end='11/30/2017'))]\n",
    "        .query('product == \"y6\" and zip_code == \"60062\"')\n",
    "        .groupby(['product', 'zip_code'])\n",
    "        .agg(total_units_ordered = pd.NamedAgg(column='quantity', aggfunc='sum'))\n",
    "        .reset_index()\n",
    ")\n"
   ]
  },
  {
   "cell_type": "markdown",
   "metadata": {},
   "source": [
    "sql code"
   ]
  },
  {
   "cell_type": "code",
   "execution_count": 110,
   "metadata": {},
   "outputs": [
    {
     "data": {
      "text/html": [
       "<div>\n",
       "<style scoped>\n",
       "    .dataframe tbody tr th:only-of-type {\n",
       "        vertical-align: middle;\n",
       "    }\n",
       "\n",
       "    .dataframe tbody tr th {\n",
       "        vertical-align: top;\n",
       "    }\n",
       "\n",
       "    .dataframe thead th {\n",
       "        text-align: right;\n",
       "    }\n",
       "</style>\n",
       "<table border=\"1\" class=\"dataframe\">\n",
       "  <thead>\n",
       "    <tr style=\"text-align: right;\">\n",
       "      <th></th>\n",
       "      <th>product</th>\n",
       "      <th>zip_code</th>\n",
       "      <th>total_units_ordered</th>\n",
       "    </tr>\n",
       "  </thead>\n",
       "  <tbody>\n",
       "    <tr>\n",
       "      <th>0</th>\n",
       "      <td>y6</td>\n",
       "      <td>60062</td>\n",
       "      <td>13</td>\n",
       "    </tr>\n",
       "  </tbody>\n",
       "</table>\n",
       "</div>"
      ],
      "text/plain": [
       "  product zip_code  total_units_ordered\n",
       "0      y6    60062                   13"
      ]
     },
     "execution_count": 110,
     "metadata": {},
     "output_type": "execute_result"
    }
   ],
   "source": [
    "q_5 = \"\"\"\n",
    "\n",
    "SELECT\n",
    "    A.product\n",
    "    ,A.zip_code\n",
    "    ,SUM(A.quantity) AS total_units_ordered\n",
    "FROM\n",
    "    dataset AS A\n",
    "WHERE\n",
    "        A.date BETWEEN '2017-11-10' AND '2017-11-30'\n",
    "    AND A.product = 'y6'\n",
    "    AND A.zip_code = '60062'\n",
    "GROUP BY\n",
    "    A.product\n",
    "    ,A.zip_code\n",
    "\n",
    "\"\"\"\n",
    "\n",
    "sqldf(q_5, globals())\n"
   ]
  },
  {
   "cell_type": "markdown",
   "metadata": {},
   "source": [
    "# What product had the largest mean order quantity? What is the mean?"
   ]
  },
  {
   "cell_type": "markdown",
   "metadata": {},
   "source": [
    "python code"
   ]
  },
  {
   "cell_type": "code",
   "execution_count": 111,
   "metadata": {},
   "outputs": [
    {
     "data": {
      "text/html": [
       "<div>\n",
       "<style scoped>\n",
       "    .dataframe tbody tr th:only-of-type {\n",
       "        vertical-align: middle;\n",
       "    }\n",
       "\n",
       "    .dataframe tbody tr th {\n",
       "        vertical-align: top;\n",
       "    }\n",
       "\n",
       "    .dataframe thead th {\n",
       "        text-align: right;\n",
       "    }\n",
       "</style>\n",
       "<table border=\"1\" class=\"dataframe\">\n",
       "  <thead>\n",
       "    <tr style=\"text-align: right;\">\n",
       "      <th></th>\n",
       "      <th>product</th>\n",
       "      <th>mean_order_qty</th>\n",
       "    </tr>\n",
       "  </thead>\n",
       "  <tbody>\n",
       "    <tr>\n",
       "      <th>0</th>\n",
       "      <td>x10</td>\n",
       "      <td>3.588235</td>\n",
       "    </tr>\n",
       "  </tbody>\n",
       "</table>\n",
       "</div>"
      ],
      "text/plain": [
       "  product  mean_order_qty\n",
       "0     x10        3.588235"
      ]
     },
     "execution_count": 111,
     "metadata": {},
     "output_type": "execute_result"
    }
   ],
   "source": [
    "(\n",
    "    dataset\n",
    "        .groupby('product')\n",
    "        .agg(mean_order_qty = pd.NamedAgg(column='quantity', aggfunc='mean'))\n",
    "        .query('mean_order_qty == mean_order_qty.max()')\n",
    "        .reset_index()\n",
    ")\n"
   ]
  },
  {
   "cell_type": "markdown",
   "metadata": {},
   "source": [
    "sql code"
   ]
  },
  {
   "cell_type": "code",
   "execution_count": 112,
   "metadata": {},
   "outputs": [
    {
     "data": {
      "text/html": [
       "<div>\n",
       "<style scoped>\n",
       "    .dataframe tbody tr th:only-of-type {\n",
       "        vertical-align: middle;\n",
       "    }\n",
       "\n",
       "    .dataframe tbody tr th {\n",
       "        vertical-align: top;\n",
       "    }\n",
       "\n",
       "    .dataframe thead th {\n",
       "        text-align: right;\n",
       "    }\n",
       "</style>\n",
       "<table border=\"1\" class=\"dataframe\">\n",
       "  <thead>\n",
       "    <tr style=\"text-align: right;\">\n",
       "      <th></th>\n",
       "      <th>product</th>\n",
       "      <th>mean_order_qty</th>\n",
       "    </tr>\n",
       "  </thead>\n",
       "  <tbody>\n",
       "    <tr>\n",
       "      <th>0</th>\n",
       "      <td>x10</td>\n",
       "      <td>3.588235</td>\n",
       "    </tr>\n",
       "  </tbody>\n",
       "</table>\n",
       "</div>"
      ],
      "text/plain": [
       "  product  mean_order_qty\n",
       "0     x10        3.588235"
      ]
     },
     "execution_count": 112,
     "metadata": {},
     "output_type": "execute_result"
    }
   ],
   "source": [
    "q_6 = \"\"\"\n",
    "\n",
    "WITH\n",
    "    MEAN_QTY_TABLE AS (\n",
    "        SELECT\n",
    "            A.product\n",
    "            ,AVG(A.quantity) AS mean_order_qty\n",
    "            ,RANK() OVER (ORDER BY AVG(A.quantity) DESC) AS mean_order_qty_rank\n",
    "        FROM \n",
    "            dataset AS A\n",
    "        GROUP BY\n",
    "            A.product\n",
    "    )\n",
    "SELECT\n",
    "    product\n",
    "    ,mean_order_qty\n",
    "FROM \n",
    "    MEAN_QTY_TABLE\n",
    "WHERE\n",
    "    mean_order_qty_rank = 1\n",
    "\n",
    "\"\"\"\n",
    "\n",
    "sqldf(q_6, globals())\n"
   ]
  },
  {
   "cell_type": "markdown",
   "metadata": {},
   "source": [
    "# What product(s) had the fewest orders?  How many? How about the most?  How many?"
   ]
  },
  {
   "cell_type": "markdown",
   "metadata": {},
   "source": [
    "python code"
   ]
  },
  {
   "cell_type": "code",
   "execution_count": 113,
   "metadata": {},
   "outputs": [
    {
     "data": {
      "text/html": [
       "<div>\n",
       "<style scoped>\n",
       "    .dataframe tbody tr th:only-of-type {\n",
       "        vertical-align: middle;\n",
       "    }\n",
       "\n",
       "    .dataframe tbody tr th {\n",
       "        vertical-align: top;\n",
       "    }\n",
       "\n",
       "    .dataframe thead th {\n",
       "        text-align: right;\n",
       "    }\n",
       "</style>\n",
       "<table border=\"1\" class=\"dataframe\">\n",
       "  <thead>\n",
       "    <tr style=\"text-align: right;\">\n",
       "      <th></th>\n",
       "      <th>product</th>\n",
       "      <th>order_count</th>\n",
       "    </tr>\n",
       "  </thead>\n",
       "  <tbody>\n",
       "    <tr>\n",
       "      <th>0</th>\n",
       "      <td>x11</td>\n",
       "      <td>3</td>\n",
       "    </tr>\n",
       "    <tr>\n",
       "      <th>1</th>\n",
       "      <td>x5</td>\n",
       "      <td>3</td>\n",
       "    </tr>\n",
       "    <tr>\n",
       "      <th>2</th>\n",
       "      <td>y6</td>\n",
       "      <td>82</td>\n",
       "    </tr>\n",
       "  </tbody>\n",
       "</table>\n",
       "</div>"
      ],
      "text/plain": [
       "  product  order_count\n",
       "0     x11            3\n",
       "1      x5            3\n",
       "2      y6           82"
      ]
     },
     "execution_count": 113,
     "metadata": {},
     "output_type": "execute_result"
    }
   ],
   "source": [
    "# This table represents the products with the fewest and most orders,\n",
    "#   where two product numbers ranked with the lowest count of orders\n",
    "\n",
    "(\n",
    "    dataset\n",
    "        .groupby('product')\n",
    "        .agg(order_count = pd.NamedAgg(column='order_number', aggfunc='count'))\n",
    "        .query('order_count == order_count.max() or order_count == order_count.min()')\n",
    "        .reset_index()\n",
    ")\n"
   ]
  },
  {
   "cell_type": "markdown",
   "metadata": {},
   "source": [
    "sql code"
   ]
  },
  {
   "cell_type": "code",
   "execution_count": 114,
   "metadata": {},
   "outputs": [
    {
     "data": {
      "text/html": [
       "<div>\n",
       "<style scoped>\n",
       "    .dataframe tbody tr th:only-of-type {\n",
       "        vertical-align: middle;\n",
       "    }\n",
       "\n",
       "    .dataframe tbody tr th {\n",
       "        vertical-align: top;\n",
       "    }\n",
       "\n",
       "    .dataframe thead th {\n",
       "        text-align: right;\n",
       "    }\n",
       "</style>\n",
       "<table border=\"1\" class=\"dataframe\">\n",
       "  <thead>\n",
       "    <tr style=\"text-align: right;\">\n",
       "      <th></th>\n",
       "      <th>product</th>\n",
       "      <th>order_count</th>\n",
       "    </tr>\n",
       "  </thead>\n",
       "  <tbody>\n",
       "    <tr>\n",
       "      <th>0</th>\n",
       "      <td>x11</td>\n",
       "      <td>3</td>\n",
       "    </tr>\n",
       "    <tr>\n",
       "      <th>1</th>\n",
       "      <td>x5</td>\n",
       "      <td>3</td>\n",
       "    </tr>\n",
       "    <tr>\n",
       "      <th>2</th>\n",
       "      <td>y6</td>\n",
       "      <td>82</td>\n",
       "    </tr>\n",
       "  </tbody>\n",
       "</table>\n",
       "</div>"
      ],
      "text/plain": [
       "  product  order_count\n",
       "0     x11            3\n",
       "1      x5            3\n",
       "2      y6           82"
      ]
     },
     "execution_count": 114,
     "metadata": {},
     "output_type": "execute_result"
    }
   ],
   "source": [
    "# This table represents the products with the fewest and most orders,\n",
    "#   where two product numbers ranked with the lowest count of orders\n",
    "\n",
    "q_7 = \"\"\"\n",
    "\n",
    "WITH\n",
    "    ORDER_COUNT_TABLE AS (\n",
    "        SELECT\n",
    "            A.product\n",
    "            ,COUNT(A.order_number) AS order_count\n",
    "            ,RANK() OVER(ORDER BY COUNT(A.order_number)) AS order_rank\n",
    "        FROM\n",
    "            dataset AS A\n",
    "        GROUP BY\n",
    "            A.product\n",
    "    )\n",
    "SELECT\n",
    "    product\n",
    "    ,order_count\n",
    "FROM \n",
    "    ORDER_COUNT_TABLE\n",
    "WHERE \n",
    "        order_rank = (SELECT MIN(order_rank) FROM ORDER_COUNT_TABLE) \n",
    "    OR  order_rank = (SELECT MAX(order_rank) FROM ORDER_COUNT_TABLE)\n",
    "\n",
    "\"\"\"\n",
    "\n",
    "sqldf(q_7, globals())\n"
   ]
  },
  {
   "cell_type": "markdown",
   "metadata": {},
   "source": [
    "# What is the shortest and longest duration in days between orders placed by customer 'westle01'?"
   ]
  },
  {
   "cell_type": "markdown",
   "metadata": {},
   "source": [
    "python code"
   ]
  },
  {
   "cell_type": "code",
   "execution_count": 115,
   "metadata": {},
   "outputs": [
    {
     "data": {
      "text/html": [
       "<div>\n",
       "<style scoped>\n",
       "    .dataframe tbody tr th:only-of-type {\n",
       "        vertical-align: middle;\n",
       "    }\n",
       "\n",
       "    .dataframe tbody tr th {\n",
       "        vertical-align: top;\n",
       "    }\n",
       "\n",
       "    .dataframe thead th {\n",
       "        text-align: right;\n",
       "    }\n",
       "</style>\n",
       "<table border=\"1\" class=\"dataframe\">\n",
       "  <thead>\n",
       "    <tr style=\"text-align: right;\">\n",
       "      <th></th>\n",
       "      <th>order_number</th>\n",
       "      <th>customer_name</th>\n",
       "      <th>date</th>\n",
       "      <th>duration</th>\n",
       "    </tr>\n",
       "  </thead>\n",
       "  <tbody>\n",
       "    <tr>\n",
       "      <th>0</th>\n",
       "      <td>173</td>\n",
       "      <td>westle01</td>\n",
       "      <td>2017-10-16</td>\n",
       "      <td>0 days</td>\n",
       "    </tr>\n",
       "    <tr>\n",
       "      <th>1</th>\n",
       "      <td>16</td>\n",
       "      <td>westle01</td>\n",
       "      <td>2017-11-10</td>\n",
       "      <td>22 days</td>\n",
       "    </tr>\n",
       "  </tbody>\n",
       "</table>\n",
       "</div>"
      ],
      "text/plain": [
       "   order_number customer_name       date duration\n",
       "0           173      westle01 2017-10-16   0 days\n",
       "1            16      westle01 2017-11-10  22 days"
      ]
     },
     "execution_count": 115,
     "metadata": {},
     "output_type": "execute_result"
    }
   ],
   "source": [
    "# This table represents both the shortest and longest durations.\n",
    "# There is a case where two orders are made on the same day, reuslting in '0 days' of \n",
    "#   of duration between each order.\n",
    "\n",
    "(\n",
    "    dataset[['order_number', 'customer_name', 'date']]\n",
    "        .query('customer_name == \"westle01\"')\n",
    "        .sort_values(by='date')\n",
    "        .assign(\n",
    "            duration = lambda df_ : df_['date'] - df_['date'].shift()\n",
    "        )\n",
    "        .query('duration == duration.max() or duration == duration.min()')\n",
    "        .reset_index(drop=True)\n",
    ")\n"
   ]
  },
  {
   "cell_type": "markdown",
   "metadata": {},
   "source": [
    "sql code"
   ]
  },
  {
   "cell_type": "code",
   "execution_count": 116,
   "metadata": {},
   "outputs": [
    {
     "data": {
      "text/html": [
       "<div>\n",
       "<style scoped>\n",
       "    .dataframe tbody tr th:only-of-type {\n",
       "        vertical-align: middle;\n",
       "    }\n",
       "\n",
       "    .dataframe tbody tr th {\n",
       "        vertical-align: top;\n",
       "    }\n",
       "\n",
       "    .dataframe thead th {\n",
       "        text-align: right;\n",
       "    }\n",
       "</style>\n",
       "<table border=\"1\" class=\"dataframe\">\n",
       "  <thead>\n",
       "    <tr style=\"text-align: right;\">\n",
       "      <th></th>\n",
       "      <th>order_number</th>\n",
       "      <th>customer_name</th>\n",
       "      <th>date</th>\n",
       "      <th>duration</th>\n",
       "    </tr>\n",
       "  </thead>\n",
       "  <tbody>\n",
       "    <tr>\n",
       "      <th>0</th>\n",
       "      <td>173</td>\n",
       "      <td>westle01</td>\n",
       "      <td>2017-10-16</td>\n",
       "      <td>0 days</td>\n",
       "    </tr>\n",
       "    <tr>\n",
       "      <th>1</th>\n",
       "      <td>16</td>\n",
       "      <td>westle01</td>\n",
       "      <td>2017-11-10</td>\n",
       "      <td>22 days</td>\n",
       "    </tr>\n",
       "  </tbody>\n",
       "</table>\n",
       "</div>"
      ],
      "text/plain": [
       "   order_number customer_name        date duration\n",
       "0           173      westle01  2017-10-16   0 days\n",
       "1            16      westle01  2017-11-10  22 days"
      ]
     },
     "execution_count": 116,
     "metadata": {},
     "output_type": "execute_result"
    }
   ],
   "source": [
    "# This table represents both the shortest and longest durations.\n",
    "# There is a case where two orders are made on the same day, reuslting in '0 days' of \n",
    "#   of duration between each order.\n",
    "\n",
    "q_8 = \"\"\"\n",
    "\n",
    "WITH\n",
    "    DURATION_TABLE AS (\n",
    "        SELECT\n",
    "            A.order_number\n",
    "            ,A.customer_name\n",
    "            ,DATE(A.date) AS date\n",
    "            ,JULIANDAY(DATE(A.date)) \n",
    "                - JULIANDAY(LAG(A.date, 1) OVER(ORDER BY A.date)) AS duration\n",
    "        FROM \n",
    "            dataset AS A\n",
    "        WHERE\n",
    "            A.customer_name = 'westle01'\n",
    "    )\n",
    "SELECT\n",
    "    order_number\n",
    "    ,customer_name\n",
    "    ,date\n",
    "    ,CAST(duration AS INTEGER) || ' days' as duration\n",
    "FROM\n",
    "    DURATION_TABLE\n",
    "WHERE\n",
    "        duration = (SELECT MIN(duration) FROM DURATION_TABLE)\n",
    "    OR  duration = (SELECT MAX(duration) FROM DURATION_TABLE)\n",
    "\n",
    "\"\"\"\n",
    "\n",
    "sqldf(q_8, globals())\n"
   ]
  },
  {
   "cell_type": "markdown",
   "metadata": {},
   "source": [
    "# How many customers have the letter 'w' in their customer_id?  Who are they?"
   ]
  },
  {
   "cell_type": "markdown",
   "metadata": {},
   "source": [
    "python code"
   ]
  },
  {
   "cell_type": "code",
   "execution_count": 127,
   "metadata": {},
   "outputs": [
    {
     "name": "stdout",
     "output_type": "stream",
     "text": [
      "6\n",
      "['newmafr01' 'sweenha01' 'wallide01' 'wellsca01' 'westle01' 'whitemy01']\n"
     ]
    }
   ],
   "source": [
    "# Assuming that 'customer_id' in this question is referring to 'customer_name'\n",
    "\n",
    "print(len(dataset[dataset['customer_name'].str.contains('[wW]')]['customer_name'].unique()))\n",
    "\n",
    "print(dataset[dataset['customer_name'].str.contains('[wW]')]['customer_name'].sort_values().unique())\n"
   ]
  },
  {
   "cell_type": "markdown",
   "metadata": {},
   "source": [
    "sql code"
   ]
  },
  {
   "cell_type": "code",
   "execution_count": 118,
   "metadata": {},
   "outputs": [
    {
     "name": "stdout",
     "output_type": "stream",
     "text": [
      "6\n",
      "['newmafr01' 'sweenha01' 'wallide01' 'wellsca01' 'westle01' 'whitemy01']\n"
     ]
    }
   ],
   "source": [
    "# Assuming that 'customer_id' in this question is referring to 'customer_name'\n",
    "\n",
    "q_9 = \"\"\"\n",
    "\n",
    "SELECT\n",
    "    A.customer_name\n",
    "    ,COUNT(A.customer_name) OVER() as customer_count\n",
    "FROM\n",
    "    dataset AS A\n",
    "WHERE\n",
    "    A.customer_name LIKE '%w%'\n",
    "GROUP BY\n",
    "    A.customer_name\n",
    "ORDER BY\n",
    "    A.customer_name\n",
    "\n",
    "\"\"\"\n",
    "\n",
    "print(sqldf(q_9, globals())['customer_count'][0])\n",
    "\n",
    "print(np.array(sqldf(q_9, globals())['customer_name']))\n"
   ]
  },
  {
   "cell_type": "markdown",
   "metadata": {},
   "source": [
    "# Generate a plot and a chart of revenue by day of week\n",
    "- please use one of the following (i.e. make it fancier than matplotlib)\n",
    "- plotnine\n",
    "- seaborn\n",
    "- bokeh\n",
    "- plotly\n",
    "- anything that is not just standard matplotlib"
   ]
  },
  {
   "cell_type": "code",
   "execution_count": 119,
   "metadata": {},
   "outputs": [
    {
     "data": {
      "text/html": [
       "<div>\n",
       "<style scoped>\n",
       "    .dataframe tbody tr th:only-of-type {\n",
       "        vertical-align: middle;\n",
       "    }\n",
       "\n",
       "    .dataframe tbody tr th {\n",
       "        vertical-align: top;\n",
       "    }\n",
       "\n",
       "    .dataframe thead th {\n",
       "        text-align: right;\n",
       "    }\n",
       "</style>\n",
       "<table border=\"1\" class=\"dataframe\">\n",
       "  <thead>\n",
       "    <tr style=\"text-align: right;\">\n",
       "      <th></th>\n",
       "      <th>weekday_number</th>\n",
       "      <th>weekday_name</th>\n",
       "      <th>total_revenue</th>\n",
       "    </tr>\n",
       "  </thead>\n",
       "  <tbody>\n",
       "    <tr>\n",
       "      <th>0</th>\n",
       "      <td>0</td>\n",
       "      <td>Monday</td>\n",
       "      <td>13241.73</td>\n",
       "    </tr>\n",
       "    <tr>\n",
       "      <th>1</th>\n",
       "      <td>1</td>\n",
       "      <td>Tuesday</td>\n",
       "      <td>10388.39</td>\n",
       "    </tr>\n",
       "    <tr>\n",
       "      <th>2</th>\n",
       "      <td>2</td>\n",
       "      <td>Wednesday</td>\n",
       "      <td>10125.22</td>\n",
       "    </tr>\n",
       "    <tr>\n",
       "      <th>3</th>\n",
       "      <td>3</td>\n",
       "      <td>Thursday</td>\n",
       "      <td>11409.19</td>\n",
       "    </tr>\n",
       "    <tr>\n",
       "      <th>4</th>\n",
       "      <td>4</td>\n",
       "      <td>Friday</td>\n",
       "      <td>13803.71</td>\n",
       "    </tr>\n",
       "    <tr>\n",
       "      <th>5</th>\n",
       "      <td>5</td>\n",
       "      <td>Saturday</td>\n",
       "      <td>12515.11</td>\n",
       "    </tr>\n",
       "    <tr>\n",
       "      <th>6</th>\n",
       "      <td>6</td>\n",
       "      <td>Sunday</td>\n",
       "      <td>13737.93</td>\n",
       "    </tr>\n",
       "  </tbody>\n",
       "</table>\n",
       "</div>"
      ],
      "text/plain": [
       "   weekday_number weekday_name  total_revenue\n",
       "0               0       Monday       13241.73\n",
       "1               1      Tuesday       10388.39\n",
       "2               2    Wednesday       10125.22\n",
       "3               3     Thursday       11409.19\n",
       "4               4       Friday       13803.71\n",
       "5               5     Saturday       12515.11\n",
       "6               6       Sunday       13737.93"
      ]
     },
     "execution_count": 119,
     "metadata": {},
     "output_type": "execute_result"
    }
   ],
   "source": [
    "(\n",
    "    dataset\n",
    "        .assign(\n",
    "            weekday_name = lambda df_ : df_['date'].dt.day_name(),\n",
    "\n",
    "            weekday_number = lambda df_ : df_['date'].dt.weekday\n",
    "        )\n",
    "        # Group by weekday number, then name. Ensures correct sorting in axes.\n",
    "        .groupby(['weekday_number', 'weekday_name'])\n",
    "        .agg(total_revenue = pd.NamedAgg(column='revenue', aggfunc='sum'))\n",
    "        .reset_index()\n",
    ")\n"
   ]
  },
  {
   "cell_type": "code",
   "execution_count": 120,
   "metadata": {},
   "outputs": [
    {
     "data": {
      "image/png": "[encoded data removed]",
      "text/plain": [
       "<Figure size 640x480 with 1 Axes>"
      ]
     },
     "metadata": {},
     "output_type": "display_data"
    }
   ],
   "source": [
    "%%capture --no-display\n",
    "\n",
    "def revenue_barplot(df: pd.DataFrame) -> mpl.figure.Figure:\n",
    "    def large_quantity(x, pos):\n",
    "        # Formats values over 100000\n",
    "        return '${:1.0f}K'.format(x*1e-3)\n",
    "    \n",
    "    def xtick_density(axes):\n",
    "        # Reduce the x-axis tick density\n",
    "        for index, label in enumerate(axes.get_xticklabels()):\n",
    "            if index % 2 == 0:\n",
    "                label.set_visible(True)\n",
    "            else:\n",
    "                label.set_visible(False)\n",
    "    \n",
    "    sns.set_style('darkgrid')\n",
    "\n",
    "    sns.set_palette('deep')\n",
    "\n",
    "    fig, ax = plt.subplots()\n",
    "\n",
    "    weekday_revenue_data = (\n",
    "        df\n",
    "            .assign(\n",
    "                weekday_name = lambda df_ : df_['date'].dt.day_name(),\n",
    "\n",
    "                weekday_number = lambda df_ : df_['date'].dt.weekday\n",
    "                \n",
    "            )\n",
    "            # Group by weekday number, then name. Ensures correct sorting in axes.\n",
    "            .groupby(['weekday_number', 'weekday_name'])\n",
    "            .agg(total_revenue = pd.NamedAgg(column='revenue', aggfunc='sum'))\n",
    "            .reset_index()\n",
    "    )\n",
    "\n",
    "    sns.barplot(\n",
    "        data=weekday_revenue_data,\n",
    "        x='total_revenue',\n",
    "        y='weekday_name',\n",
    "        ax=ax,\n",
    "    )\n",
    "\n",
    "    ax.set(\n",
    "        title='Revenue by Day of Week',\n",
    "        xlabel='Total Revenue',\n",
    "        ylabel='',\n",
    "    )\n",
    "    \n",
    "\n",
    "    # Change x-axis limits to make bars more meaningfgul\n",
    "    ax.set_xlim([10000, 14000])\n",
    "    \n",
    "    # Apply monetary formatting to x-axis\n",
    "    formatter = FuncFormatter(large_quantity)\n",
    "    \n",
    "    ax.xaxis.set_major_formatter(formatter)\n",
    "    \n",
    "    # Redue x-axis tick density\n",
    "    xtick_density(ax)\n",
    "    \n",
    "    # # Apply bar labels \n",
    "    # ax.bar_label(ax.containers[0])\n",
    "\n",
    "    return fig\n",
    "\n",
    "\n",
    "weekday_revenue_barplot = revenue_barplot(dataset)\n"
   ]
  },
  {
   "cell_type": "code",
   "execution_count": 121,
   "metadata": {},
   "outputs": [
    {
     "data": {
      "image/png": "[encoded data removed]",
      "text/plain": [
       "<Figure size 640x480 with 1 Axes>"
      ]
     },
     "metadata": {},
     "output_type": "display_data"
    }
   ],
   "source": [
    "%%capture --no-display\n",
    "\n",
    "def revenue_regplot(df: pd.DataFrame) -> mpl.figure.Figure:\n",
    "    def large_quantity(x, pos):\n",
    "        # Formats values over 100000\n",
    "        return '${:1.0f}K'.format(x*1e-3)\n",
    "\n",
    "    sns.set_style('darkgrid')\n",
    "\n",
    "    sns.set_palette('deep')\n",
    "\n",
    "    fig, ax = plt.subplots()\n",
    "\n",
    "    weekday_revenue_data = (\n",
    "        df\n",
    "            .assign(\n",
    "                weekday_name = lambda df_ : df_['date'].dt.day_name(),\n",
    "\n",
    "                weekday_number = lambda df_ : df_['date'].dt.weekday\n",
    "            )\n",
    "            # Group by weekday number, then name. Ensures correct sorting in axes.\n",
    "            .groupby(['weekday_number', 'weekday_name'])\n",
    "            .agg(total_revenue = pd.NamedAgg(column='revenue', aggfunc='sum'))\n",
    "            .reset_index()\n",
    "    )\n",
    "\n",
    "    sns.barplot(\n",
    "        data=weekday_revenue_data,\n",
    "        x='weekday_name',\n",
    "        y='total_revenue',\n",
    "        ax=ax,\n",
    "    )\n",
    "\n",
    "    sns.regplot(\n",
    "        data=weekday_revenue_data,\n",
    "        x='weekday_number',\n",
    "        y='total_revenue',\n",
    "        color='tab:pink',\n",
    "        marker='D',\n",
    "        ax=ax,\n",
    "    )\n",
    "    \n",
    "    ax.set(\n",
    "        title='Revenue by Day of Week',\n",
    "        xlabel='',\n",
    "        ylabel='Total Revenue',\n",
    "    )\n",
    "\n",
    "    # Change y-axis limits to make bars more meaningfgul\n",
    "    ax.set_ylim([8000, 14000])\n",
    "\n",
    "    # Apply monetary formatting to y-axis\n",
    "    formatter = FuncFormatter(large_quantity)\n",
    "\n",
    "    ax.yaxis.set_major_formatter(formatter)\n",
    "\n",
    "    return fig\n",
    "\n",
    "\n",
    "weekday_revenue_regplot = revenue_regplot(dataset)\n"
   ]
  }
 ],
 "metadata": {
  "kernelspec": {
   "display_name": "Python 3.11.0 ('thrive-env')",
   "language": "python",
   "name": "python3"
  },
  "language_info": {
   "codemirror_mode": {
    "name": "ipython",
    "version": 3
   },
   "file_extension": ".py",
   "mimetype": "text/x-python",
   "name": "python",
   "nbconvert_exporter": "python",
   "pygments_lexer": "ipython3",
   "version": "3.11.0"
  },
  "vscode": {
   "interpreter": {
    "hash": "1a82bf67e2412bf534069ea01bedc92c1ce4aa9627eb7c9a0fda8faa5c108c4f"
   }
  }
 },
 "nbformat": 4,
 "nbformat_minor": 2
}
